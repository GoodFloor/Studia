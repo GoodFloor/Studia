{
 "cells": [
  {
   "cell_type": "code",
   "execution_count": 2,
   "metadata": {},
   "outputs": [],
   "source": [
    "from crc import Calculator, Crc8\n",
    "crcCalculator = Calculator(Crc8.CCITT)"
   ]
  },
  {
   "cell_type": "code",
   "execution_count": 30,
   "metadata": {},
   "outputs": [],
   "source": [
    "fileZ = open(\"Z2.txt\", \"w\")\n",
    "fileW = open(\"W.txt\", \"r\")\n",
    "result = \"\"\n",
    "\n",
    "# Czytanie ramek\n",
    "lastByte = fileW.read(8)\n",
    "while(lastByte != \"01111110\"):\n",
    "    lastByte = lastByte[1:8] + fileW.read(1)\n",
    "lastByte = fileW.read(8)\n",
    "frame = \"\"\n",
    "frames = []\n",
    "while(len(lastByte) == 8):\n",
    "    if(lastByte == \"01111110\"):\n",
    "        if(frame != \"\"):\n",
    "            frames.append(frame)\n",
    "            frame = \"\"\n",
    "        lastByte = fileW.read(8)\n",
    "    else:\n",
    "        frame += lastByte[0]\n",
    "        lastByte = lastByte[1:8] + fileW.read(1)\n",
    "\n",
    "# Odrozpychanie\n",
    "unstuffedFrames = []\n",
    "for frame in frames:\n",
    "    unstuffedFrame = \"\"\n",
    "    consecutiveOnes = 0\n",
    "    for c in frame:\n",
    "        if(consecutiveOnes < 5):\n",
    "            unstuffedFrame += c\n",
    "            if(c == \"1\"):\n",
    "                consecutiveOnes += 1\n",
    "            else:\n",
    "                consecutiveOnes = 0\n",
    "        elif(c == \"1\"):\n",
    "            unstuffedFrame = \"\"\n",
    "            break\n",
    "        else:\n",
    "            consecutiveOnes = 0\n",
    "    if(unstuffedFrame != \"\"):\n",
    "        unstuffedFrames.append(unstuffedFrame)\n",
    "\n",
    "# Sprawdzenie crc \n",
    "for frame in unstuffedFrames:\n",
    "    crc = int(frame[0:8], 2)\n",
    "    msg = []\n",
    "    l = 8\n",
    "    r = 16\n",
    "    while l < len(frame):\n",
    "        msg.append(int(frame[l:min(r, len(frame))], 2))\n",
    "        l += 8\n",
    "        r += 8\n",
    "    if(crcCalculator.checksum(bytes(msg)) == crc):\n",
    "        fileZ.write(frame[8:len(frame)])\n",
    "\n",
    "fileZ.close()\n",
    "fileW.close()\n"
   ]
  }
 ],
 "metadata": {
  "kernelspec": {
   "display_name": "Python 3",
   "language": "python",
   "name": "python3"
  },
  "language_info": {
   "codemirror_mode": {
    "name": "ipython",
    "version": 3
   },
   "file_extension": ".py",
   "mimetype": "text/x-python",
   "name": "python",
   "nbconvert_exporter": "python",
   "pygments_lexer": "ipython3",
   "version": "3.11.3"
  },
  "orig_nbformat": 4
 },
 "nbformat": 4,
 "nbformat_minor": 2
}
