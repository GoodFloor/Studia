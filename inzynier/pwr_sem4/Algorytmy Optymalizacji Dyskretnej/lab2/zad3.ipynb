{
 "cells": [
  {
   "cell_type": "code",
   "execution_count": 1,
   "metadata": {},
   "outputs": [],
   "source": [
    "# autor: Łukasz Machnik\n",
    "from pulp import LpMaximize, LpMinimize, LpProblem, LpStatus, lpSum, LpVariable"
   ]
  },
  {
   "cell_type": "code",
   "execution_count": 2,
   "metadata": {},
   "outputs": [],
   "source": [
    "shifts = 3\n",
    "districts = 3\n",
    "minDistrictShiftCars = [[2, 4, 3], [3, 6, 5], [5, 7, 6]]\n",
    "maxDistrictShiftCars = [[3, 7, 5], [5, 7, 10], [8, 12, 10]]\n",
    "minShiftCars = [10, 20, 18]\n",
    "minDistrictCars = [10, 14, 13]"
   ]
  },
  {
   "cell_type": "code",
   "execution_count": 3,
   "metadata": {},
   "outputs": [
    {
     "data": {
      "text/plain": [
       "1"
      ]
     },
     "execution_count": 3,
     "metadata": {},
     "output_type": "execute_result"
    }
   ],
   "source": [
    "model = LpProblem(\"radiowozy\", sense=LpMinimize)\n",
    "assignedCars = [[LpVariable(\"dzielnica%s_zmiana%s\" % (i, j), lowBound=minDistrictShiftCars[i][j], upBound=maxDistrictShiftCars[i][j], cat=\"Integer\") for j in range(shifts)] for i in range(districts)]\n",
    "totalNumberOfCars = 0\n",
    "for i in range(districts):\n",
    "    carsInDistrict = 0\n",
    "    for j in range(shifts):\n",
    "        totalNumberOfCars += assignedCars[i][j]\n",
    "        carsInDistrict += assignedCars[i][j]\n",
    "    model += (carsInDistrict >= minDistrictCars[i], \"ograniczenie_dolne_dzielnica%s\" % i)\n",
    "model += totalNumberOfCars\n",
    "for j in range(shifts):\n",
    "    carsOnShift = 0\n",
    "    for i in range(districts):\n",
    "        carsOnShift += assignedCars[i][j]\n",
    "    model += (carsOnShift >= minShiftCars[j], \"ograniczenie_dolne_zmiana%s\" % j)\n",
    "\n",
    "model.solve()"
   ]
  },
  {
   "cell_type": "code",
   "execution_count": 4,
   "metadata": {},
   "outputs": [
    {
     "name": "stdout",
     "output_type": "stream",
     "text": [
      "Liczba wymaganych samochodów: 48.0\n",
      "dzielnica0_zmiana0 = 2.0\n",
      "dzielnica0_zmiana1 = 5.0\n",
      "dzielnica0_zmiana2 = 3.0\n",
      "dzielnica1_zmiana0 = 3.0\n",
      "dzielnica1_zmiana1 = 7.0\n",
      "dzielnica1_zmiana2 = 9.0\n",
      "dzielnica2_zmiana0 = 5.0\n",
      "dzielnica2_zmiana1 = 8.0\n",
      "dzielnica2_zmiana2 = 6.0\n"
     ]
    }
   ],
   "source": [
    "print(\"Liczba wymaganych samochodów: %s\" % totalNumberOfCars.value())\n",
    "for var in model.variables():\n",
    "    print(\"%s = %s\" % (var.name, var.value()))"
   ]
  }
 ],
 "metadata": {
  "kernelspec": {
   "display_name": "Python 3",
   "language": "python",
   "name": "python3"
  },
  "language_info": {
   "codemirror_mode": {
    "name": "ipython",
    "version": 3
   },
   "file_extension": ".py",
   "mimetype": "text/x-python",
   "name": "python",
   "nbconvert_exporter": "python",
   "pygments_lexer": "ipython3",
   "version": "3.11.3"
  },
  "orig_nbformat": 4
 },
 "nbformat": 4,
 "nbformat_minor": 2
}
