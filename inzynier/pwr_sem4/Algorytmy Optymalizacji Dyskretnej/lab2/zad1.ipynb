{
 "cells": [
  {
   "cell_type": "code",
   "execution_count": 1,
   "metadata": {},
   "outputs": [],
   "source": [
    "# autor: Łukasz Machnik\n",
    "from pulp import LpMinimize, LpProblem, LpVariable"
   ]
  },
  {
   "cell_type": "code",
   "execution_count": 2,
   "metadata": {},
   "outputs": [],
   "source": [
    "numberOfAirports = 4\n",
    "numberOfVendors = 3\n",
    "# price[idLotniska][idDostawcy] = cena dostarczenia galonu paliwa na dane lotnisko przez danego dostawcę \n",
    "price = [[10, 7, 8], [10, 11, 14], [9, 12, 4], [11, 13, 9]]\n",
    "fuelNeeded = [110000, 220000, 330000, 440000]\n",
    "fuelProvided = [275000, 550000, 660000]"
   ]
  },
  {
   "cell_type": "code",
   "execution_count": 3,
   "metadata": {},
   "outputs": [],
   "source": [
    "model = LpProblem(name=\"dostawcy-paliwa\", sense=LpMinimize)\n",
    "fuelDelivered = [[0 for j in range(numberOfVendors)] for i in range(numberOfAirports)]\n",
    "for i in range(numberOfAirports):\n",
    "    s = 0\n",
    "    for j in range(numberOfVendors):\n",
    "        fuelDelivered[i][j] = LpVariable((\"lotnisko%s_dostawca%s\" % (i, j)), lowBound=0)\n",
    "        s += fuelDelivered[i][j]\n",
    "    model += (s == fuelNeeded[i], (\"popyt_lotnisko%s\" % i))\n",
    "for i in range(numberOfVendors):\n",
    "    s = 0\n",
    "    for j in range(numberOfAirports):\n",
    "        s += fuelDelivered[j][i]\n",
    "    model += (s <= fuelProvided[i], (\"podaz_dostawca%s\" % i))\n",
    "goal = 0\n",
    "for i in range(numberOfAirports):\n",
    "    s = 0\n",
    "    for j in range(numberOfVendors):\n",
    "        s += fuelDelivered[i][j] * price[i][j]\n",
    "    goal += s\n",
    "model += goal\n",
    "\n",
    "status = model.solve()"
   ]
  },
  {
   "cell_type": "code",
   "execution_count": 8,
   "metadata": {},
   "outputs": [
    {
     "name": "stdout",
     "output_type": "stream",
     "text": [
      "lotnisko0_dostawca0 = 0.0\n",
      "lotnisko1_dostawca0 = 165000.0\n",
      "lotnisko2_dostawca0 = 0.0\n",
      "lotnisko3_dostawca0 = 110000.0\n",
      "Suma_dostawca0 = 275000.0\n",
      "lotnisko0_dostawca1 = 110000.0\n",
      "lotnisko1_dostawca1 = 55000.0\n",
      "lotnisko2_dostawca1 = 0.0\n",
      "lotnisko3_dostawca1 = 0.0\n",
      "Suma_dostawca1 = 165000.0\n",
      "lotnisko0_dostawca2 = 0.0\n",
      "lotnisko1_dostawca2 = 0.0\n",
      "lotnisko2_dostawca2 = 330000.0\n",
      "lotnisko3_dostawca2 = 330000.0\n",
      "Suma_dostawca2 = 660000.0\n",
      "Całkowity koszt dostaw paliwa: 8525000.0\n"
     ]
    }
   ],
   "source": [
    "totalCost = 0\n",
    "for j in range(numberOfVendors):\n",
    "    totalDelivery = 0\n",
    "    for i in range(numberOfAirports):\n",
    "        totalCost += fuelDelivered[i][j].value() * price[i][j]\n",
    "        totalDelivery += fuelDelivered[i][j].value()\n",
    "        print(\"lotnisko%s_dostawca%s = %s\" % (i, j, fuelDelivered[i][j].value()))\n",
    "    print(\"Suma_dostawca%s = %s\" % (j, totalDelivery))\n",
    "print(\"Całkowity koszt dostaw paliwa: %s\" % totalCost)"
   ]
  }
 ],
 "metadata": {
  "kernelspec": {
   "display_name": "Python 3",
   "language": "python",
   "name": "python3"
  },
  "language_info": {
   "codemirror_mode": {
    "name": "ipython",
    "version": 3
   },
   "file_extension": ".py",
   "mimetype": "text/x-python",
   "name": "python",
   "nbconvert_exporter": "python",
   "pygments_lexer": "ipython3",
   "version": "3.11.3"
  },
  "orig_nbformat": 4
 },
 "nbformat": 4,
 "nbformat_minor": 2
}
