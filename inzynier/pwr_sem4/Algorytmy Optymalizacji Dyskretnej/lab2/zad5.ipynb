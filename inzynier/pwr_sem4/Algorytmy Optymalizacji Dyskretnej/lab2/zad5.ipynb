{
 "cells": [
  {
   "cell_type": "code",
   "execution_count": 12,
   "metadata": {},
   "outputs": [],
   "source": [
    "# autor: Łukasz Machnik\n",
    "from pulp import LpMaximize, LpMinimize, LpProblem, LpStatus, lpSum, LpVariable"
   ]
  },
  {
   "cell_type": "code",
   "execution_count": 13,
   "metadata": {},
   "outputs": [],
   "source": [
    "numberOfProducts = 4\n",
    "numberOfMachines = 3\n",
    "availableTime = 3600\n",
    "productDemand = [400, 100, 150, 500]\n",
    "productPrice = [9, 7, 6, 5] # per kg\n",
    "materialCost = [4, 1, 1, 1] # per kg\n",
    "operatingCost = [2, 2, 3] # per min\n",
    "productEarning = [productPrice[i] - materialCost[i] for i in range(numberOfProducts)]\n",
    "productionTime = [[5, 10, 6], [3, 6, 4], [4, 5, 3], [4, 2, 1]] # min per kg\n"
   ]
  },
  {
   "cell_type": "code",
   "execution_count": 14,
   "metadata": {},
   "outputs": [
    {
     "data": {
      "text/plain": [
       "1"
      ]
     },
     "execution_count": 14,
     "metadata": {},
     "output_type": "execute_result"
    }
   ],
   "source": [
    "model = LpProblem(name=\"zyski_ze_sprzedazy\", sense=LpMaximize)\n",
    "unitsMade = [LpVariable(\"wytworzono_produkt%s\" % i, lowBound=0) for i in range(numberOfProducts)]\n",
    "occupiedTime = [0 for j in range(numberOfMachines)]\n",
    "for i in range(numberOfProducts):\n",
    "    for j in range(numberOfMachines):\n",
    "        occupiedTime[j] += unitsMade[i] * productionTime[i][j]\n",
    "for j in range(numberOfMachines):\n",
    "    model += (occupiedTime[j] <= availableTime, \"ograniczenie_czasu%s\" % j)\n",
    "for i in range(numberOfProducts):\n",
    "    model += (unitsMade[i] <= productDemand[i], \"popyt%s\" % i)\n",
    "totalEarnings = 0\n",
    "for i in range(numberOfProducts):\n",
    "    totalEarnings += unitsMade[i] * productEarning[i]\n",
    "for j in range(numberOfMachines):\n",
    "    totalEarnings -= occupiedTime[j] * operatingCost[j] / 60.0\n",
    "model += totalEarnings\n",
    "model.solve()"
   ]
  },
  {
   "cell_type": "code",
   "execution_count": 15,
   "metadata": {},
   "outputs": [],
   "source": [
    "# model = LpProblem(name=\"produkcja_towarow\", sense=LpMaximize)\n",
    "# unitsMade = [[LpVariable((\"produkt%s_maszyna%s\" % (i, j)), lowBound=0) for j in range(numberOfMachines)] for i in range(numberOfProducts)]\n",
    "# occupiedTime = [0 for i in range(numberOfMachines)]\n",
    "\n",
    "# for i in range(numberOfProducts):\n",
    "#     model += (lpSum(unitsMade[i]) <= productDemand[i], \"popyt%s\" % i)\n",
    "\n",
    "# for j in range(numberOfMachines):\n",
    "#     for i in range(numberOfProducts):\n",
    "#         occupiedTime[j] += unitsMade[i][j] * productionTime[i][j]\n",
    "#     model += (occupiedTime[j] <= availableTime, \"ograniczenie_czasu%s\" % j)\n",
    "\n",
    "# totalEarnings = 0\n",
    "# for i in range(numberOfProducts):\n",
    "#     for j in range(numberOfMachines):\n",
    "#         totalEarnings += unitsMade[i][j] * productEarning[i]\n",
    "# for j in range(numberOfMachines):\n",
    "#     totalEarnings -= occupiedTime[j] * operatingCost[j] / 60.0\n",
    "# model += totalEarnings\n",
    "# # print(model)\n",
    "# status = model.solve()# "
   ]
  },
  {
   "cell_type": "code",
   "execution_count": 16,
   "metadata": {},
   "outputs": [
    {
     "name": "stdout",
     "output_type": "stream",
     "text": [
      "Całkowity zysk: 3632.5\n",
      "wytworzono_produkt0 = 125.0\n",
      "wytworzono_produkt1 = 100.0\n",
      "wytworzono_produkt2 = 150.0\n",
      "wytworzono_produkt3 = 500.0\n"
     ]
    }
   ],
   "source": [
    "print(\"Całkowity zysk: %s\" % model.objective.value())\n",
    "for var in model.variables():\n",
    "    print(\"%s = %s\" % (var.name, var.value()))"
   ]
  }
 ],
 "metadata": {
  "kernelspec": {
   "display_name": "Python 3",
   "language": "python",
   "name": "python3"
  },
  "language_info": {
   "codemirror_mode": {
    "name": "ipython",
    "version": 3
   },
   "file_extension": ".py",
   "mimetype": "text/x-python",
   "name": "python",
   "nbconvert_exporter": "python",
   "pygments_lexer": "ipython3",
   "version": "3.11.3"
  },
  "orig_nbformat": 4
 },
 "nbformat": 4,
 "nbformat_minor": 2
}
