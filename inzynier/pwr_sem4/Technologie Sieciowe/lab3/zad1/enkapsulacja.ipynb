{
 "cells": [
  {
   "cell_type": "code",
   "execution_count": 28,
   "metadata": {},
   "outputs": [],
   "source": [
    "# import random\n",
    "# fileZ = open(\"Z.txt\", \"w\")\n",
    "# random.seed()\n",
    "# for i in range(1024):\n",
    "#     fileZ.write(str(random.randint(0, 1)))\n",
    "# fileZ.close()\n"
   ]
  },
  {
   "cell_type": "code",
   "execution_count": 39,
   "metadata": {},
   "outputs": [],
   "source": [
    "from crc import Calculator, Crc8\n",
    "crcCalculator = Calculator(Crc8.CCITT)"
   ]
  },
  {
   "cell_type": "code",
   "execution_count": 41,
   "metadata": {},
   "outputs": [],
   "source": [
    "fileZ = open(\"Z.txt\", \"r\")\n",
    "fileW = open(\"W.txt\", \"w\")\n",
    "\n",
    "inputReady = True\n",
    "while inputReady:\n",
    "    # Wczytywanie zawartości ramki\n",
    "    msg = []\n",
    "    frame = \"\"\n",
    "    for i in range(8):\n",
    "        letter = fileZ.read(8)\n",
    "        if(letter == \"\"):\n",
    "            inputReady = False\n",
    "            break\n",
    "        frame += letter\n",
    "        msg.append(int(letter, 2))\n",
    "        if(len(letter) < 8):\n",
    "            inputReady = False\n",
    "            break\n",
    "    checksum = format(crcCalculator.checksum(bytes(msg)), 'b')\n",
    "    while(len(checksum) < 8):\n",
    "        checksum = '0' + checksum\n",
    "    frame = checksum + frame\n",
    "\n",
    "    # Rozpychanie bitów\n",
    "    stuffedFrame = \"\"\n",
    "    consecutiveOnes = 0\n",
    "    for c in frame:\n",
    "        if c == '1':\n",
    "            consecutiveOnes += 1\n",
    "        else:\n",
    "            consecutiveOnes = 0\n",
    "        stuffedFrame += c\n",
    "        if consecutiveOnes == 5:\n",
    "            stuffedFrame += '0'\n",
    "            consecutiveOnes = 0\n",
    "    fileW.write(\"01111110\" + stuffedFrame + \"01111110\")\n",
    "\n",
    "fileZ.close()\n",
    "fileW.close()"
   ]
  }
 ],
 "metadata": {
  "kernelspec": {
   "display_name": "Python 3",
   "language": "python",
   "name": "python3"
  },
  "language_info": {
   "codemirror_mode": {
    "name": "ipython",
    "version": 3
   },
   "file_extension": ".py",
   "mimetype": "text/x-python",
   "name": "python",
   "nbconvert_exporter": "python",
   "pygments_lexer": "ipython3",
   "version": "3.11.3"
  },
  "orig_nbformat": 4
 },
 "nbformat": 4,
 "nbformat_minor": 2
}
